{
 "cells": [
  {
   "cell_type": "code",
   "execution_count": 1,
   "id": "7a6e780f",
   "metadata": {},
   "outputs": [],
   "source": [
    "import pandas as pd\n",
    "import numpy as np\n",
    "import os\n",
    "import matplotlib.pyplot as plt\n",
    "import seaborn as sns\n",
    "import scipy"
   ]
  },
  {
   "cell_type": "code",
   "execution_count": 2,
   "id": "e0ef4177",
   "metadata": {},
   "outputs": [],
   "source": [
    "Path  = r'/Users/ghalebju/Desktop/Data Analysis Format/Part 4/Instacart Basket Analysis'"
   ]
  },
  {
   "cell_type": "code",
   "execution_count": 3,
   "id": "f05f1c3a",
   "metadata": {},
   "outputs": [],
   "source": [
    "customer = pd.read_csv(os.path.join (Path,'02 Data', 'original Data', 'customers.csv'))"
   ]
  },
  {
   "cell_type": "code",
   "execution_count": 4,
   "id": "49617651",
   "metadata": {},
   "outputs": [
    {
     "data": {
      "text/plain": [
       "Index(['user_id', 'First Name', 'Surnam', 'Gender', 'STATE', 'Age',\n",
       "       'date_joined', 'n_dependants', 'fam_status', 'income'],\n",
       "      dtype='object')"
      ]
     },
     "execution_count": 4,
     "metadata": {},
     "output_type": "execute_result"
    }
   ],
   "source": [
    "customer.columns"
   ]
  },
  {
   "cell_type": "code",
   "execution_count": 5,
   "id": "e2ea91f2",
   "metadata": {},
   "outputs": [
    {
     "data": {
      "text/html": [
       "<div>\n",
       "<style scoped>\n",
       "    .dataframe tbody tr th:only-of-type {\n",
       "        vertical-align: middle;\n",
       "    }\n",
       "\n",
       "    .dataframe tbody tr th {\n",
       "        vertical-align: top;\n",
       "    }\n",
       "\n",
       "    .dataframe thead th {\n",
       "        text-align: right;\n",
       "    }\n",
       "</style>\n",
       "<table border=\"1\" class=\"dataframe\">\n",
       "  <thead>\n",
       "    <tr style=\"text-align: right;\">\n",
       "      <th></th>\n",
       "      <th>user_id</th>\n",
       "      <th>First Name</th>\n",
       "      <th>Surnam</th>\n",
       "      <th>Gender</th>\n",
       "      <th>STATE</th>\n",
       "      <th>Age</th>\n",
       "      <th>date_joined</th>\n",
       "      <th>n_dependants</th>\n",
       "      <th>fam_status</th>\n",
       "      <th>income</th>\n",
       "    </tr>\n",
       "  </thead>\n",
       "  <tbody>\n",
       "    <tr>\n",
       "      <th>0</th>\n",
       "      <td>26711</td>\n",
       "      <td>Deborah</td>\n",
       "      <td>Esquivel</td>\n",
       "      <td>Female</td>\n",
       "      <td>Missouri</td>\n",
       "      <td>48</td>\n",
       "      <td>1/1/2017</td>\n",
       "      <td>3</td>\n",
       "      <td>married</td>\n",
       "      <td>165665</td>\n",
       "    </tr>\n",
       "    <tr>\n",
       "      <th>1</th>\n",
       "      <td>33890</td>\n",
       "      <td>Patricia</td>\n",
       "      <td>Hart</td>\n",
       "      <td>Female</td>\n",
       "      <td>New Mexico</td>\n",
       "      <td>36</td>\n",
       "      <td>1/1/2017</td>\n",
       "      <td>0</td>\n",
       "      <td>single</td>\n",
       "      <td>59285</td>\n",
       "    </tr>\n",
       "    <tr>\n",
       "      <th>2</th>\n",
       "      <td>65803</td>\n",
       "      <td>Kenneth</td>\n",
       "      <td>Farley</td>\n",
       "      <td>Male</td>\n",
       "      <td>Idaho</td>\n",
       "      <td>35</td>\n",
       "      <td>1/1/2017</td>\n",
       "      <td>2</td>\n",
       "      <td>married</td>\n",
       "      <td>99568</td>\n",
       "    </tr>\n",
       "    <tr>\n",
       "      <th>3</th>\n",
       "      <td>125935</td>\n",
       "      <td>Michelle</td>\n",
       "      <td>Hicks</td>\n",
       "      <td>Female</td>\n",
       "      <td>Iowa</td>\n",
       "      <td>40</td>\n",
       "      <td>1/1/2017</td>\n",
       "      <td>0</td>\n",
       "      <td>single</td>\n",
       "      <td>42049</td>\n",
       "    </tr>\n",
       "    <tr>\n",
       "      <th>4</th>\n",
       "      <td>130797</td>\n",
       "      <td>Ann</td>\n",
       "      <td>Gilmore</td>\n",
       "      <td>Female</td>\n",
       "      <td>Maryland</td>\n",
       "      <td>26</td>\n",
       "      <td>1/1/2017</td>\n",
       "      <td>1</td>\n",
       "      <td>married</td>\n",
       "      <td>40374</td>\n",
       "    </tr>\n",
       "  </tbody>\n",
       "</table>\n",
       "</div>"
      ],
      "text/plain": [
       "   user_id First Name    Surnam  Gender       STATE  Age date_joined  \\\n",
       "0    26711    Deborah  Esquivel  Female    Missouri   48    1/1/2017   \n",
       "1    33890   Patricia      Hart  Female  New Mexico   36    1/1/2017   \n",
       "2    65803    Kenneth    Farley    Male       Idaho   35    1/1/2017   \n",
       "3   125935   Michelle     Hicks  Female        Iowa   40    1/1/2017   \n",
       "4   130797        Ann   Gilmore  Female    Maryland   26    1/1/2017   \n",
       "\n",
       "   n_dependants fam_status  income  \n",
       "0             3    married  165665  \n",
       "1             0     single   59285  \n",
       "2             2    married   99568  \n",
       "3             0     single   42049  \n",
       "4             1    married   40374  "
      ]
     },
     "execution_count": 5,
     "metadata": {},
     "output_type": "execute_result"
    }
   ],
   "source": [
    "customer.head ()"
   ]
  },
  {
   "cell_type": "code",
   "execution_count": 6,
   "id": "50adecac",
   "metadata": {},
   "outputs": [
    {
     "data": {
      "text/plain": [
       "(206209, 10)"
      ]
     },
     "execution_count": 6,
     "metadata": {},
     "output_type": "execute_result"
    }
   ],
   "source": [
    "customer.shape"
   ]
  },
  {
   "cell_type": "code",
   "execution_count": 2,
   "id": "43809cdf",
   "metadata": {},
   "outputs": [
    {
     "ename": "NameError",
     "evalue": "name 'customer' is not defined",
     "output_type": "error",
     "traceback": [
      "\u001b[0;31m---------------------------------------------------------------------------\u001b[0m",
      "\u001b[0;31mNameError\u001b[0m                                 Traceback (most recent call last)",
      "Cell \u001b[0;32mIn[2], line 1\u001b[0m\n\u001b[0;32m----> 1\u001b[0m \u001b[43mcustomer\u001b[49m\u001b[38;5;241m.\u001b[39mdescribe\n",
      "\u001b[0;31mNameError\u001b[0m: name 'customer' is not defined"
     ]
    }
   ],
   "source": [
    "customer.describe"
   ]
  },
  {
   "cell_type": "code",
   "execution_count": 7,
   "id": "453d4c61",
   "metadata": {
    "scrolled": true
   },
   "outputs": [
    {
     "name": "stdout",
     "output_type": "stream",
     "text": [
      "<class 'pandas.core.frame.DataFrame'>\n",
      "RangeIndex: 206209 entries, 0 to 206208\n",
      "Data columns (total 10 columns):\n",
      " #   Column        Non-Null Count   Dtype \n",
      "---  ------        --------------   ----- \n",
      " 0   user_id       206209 non-null  int64 \n",
      " 1   First Name    194950 non-null  object\n",
      " 2   Surnam        206209 non-null  object\n",
      " 3   Gender        206209 non-null  object\n",
      " 4   STATE         206209 non-null  object\n",
      " 5   Age           206209 non-null  int64 \n",
      " 6   date_joined   206209 non-null  object\n",
      " 7   n_dependants  206209 non-null  int64 \n",
      " 8   fam_status    206209 non-null  object\n",
      " 9   income        206209 non-null  int64 \n",
      "dtypes: int64(4), object(6)\n",
      "memory usage: 15.7+ MB\n"
     ]
    }
   ],
   "source": [
    "customer.info ()"
   ]
  },
  {
   "cell_type": "code",
   "execution_count": 8,
   "id": "6164d6ef",
   "metadata": {},
   "outputs": [],
   "source": [
    "#Q4 based on our observations we decided to do three procedures with respect to data wrangling"
   ]
  },
  {
   "cell_type": "code",
   "execution_count": 9,
   "id": "8c25e298",
   "metadata": {},
   "outputs": [],
   "source": [
    "#Q4 CHANGING DATA_TYPE (USER_ID)\n",
    "\n",
    "customer['user_id'] = customer['user_id'].astype('str')"
   ]
  },
  {
   "cell_type": "code",
   "execution_count": 10,
   "id": "e403006b",
   "metadata": {},
   "outputs": [],
   "source": [
    "#Q4 DROPPING GERNER CULOMN\n",
    "\n",
    "customer_1 = customer.drop(columns = ['Gender'])"
   ]
  },
  {
   "cell_type": "code",
   "execution_count": 11,
   "id": "55c8d0aa",
   "metadata": {},
   "outputs": [],
   "source": [
    "#Q4 RENAMING\n",
    "customer_2 = customer_1.rename(columns = {'fam_status' : 'family_status'},inplace = False)"
   ]
  },
  {
   "cell_type": "code",
   "execution_count": 12,
   "id": "1172c058",
   "metadata": {},
   "outputs": [],
   "source": [
    "#Q4 RENAMING\n",
    "customer_wrangle = customer_2.rename(columns = {'STATE' : 'state'},inplace = False)"
   ]
  },
  {
   "cell_type": "code",
   "execution_count": 13,
   "id": "f04332e8",
   "metadata": {},
   "outputs": [
    {
     "data": {
      "text/plain": [
       "Index(['user_id', 'First Name', 'Surnam', 'state', 'Age', 'date_joined',\n",
       "       'n_dependants', 'family_status', 'income'],\n",
       "      dtype='object')"
      ]
     },
     "execution_count": 13,
     "metadata": {},
     "output_type": "execute_result"
    }
   ],
   "source": [
    "#Q4 CHECKING DATA_WRANGLES\n",
    "customer_wrangle.columns"
   ]
  },
  {
   "cell_type": "code",
   "execution_count": 14,
   "id": "14b7a95d",
   "metadata": {},
   "outputs": [
    {
     "name": "stdout",
     "output_type": "stream",
     "text": [
      "First Name\n"
     ]
    }
   ],
   "source": [
    "#Q5 CHECKIND MIX_DATA_TYPE\n",
    "\n",
    "for col in customer_wrangle.columns.tolist():\n",
    "  weird_cust = (customer_wrangle[[col]].applymap(type) != customer_wrangle[[col]].iloc[0].apply(type)).any(axis = 1)\n",
    "  if len (customer_wrangle[weird_cust]) > 0:\n",
    "    print (col)"
   ]
  },
  {
   "cell_type": "code",
   "execution_count": 15,
   "id": "5ae223c6",
   "metadata": {},
   "outputs": [],
   "source": [
    "#Q5 \n",
    "customer_wrangle['First Name'] = customer_wrangle['First Name'].astype('str')"
   ]
  },
  {
   "cell_type": "code",
   "execution_count": 16,
   "id": "3e45e250",
   "metadata": {},
   "outputs": [
    {
     "name": "stdout",
     "output_type": "stream",
     "text": [
      "<class 'pandas.core.frame.DataFrame'>\n",
      "RangeIndex: 206209 entries, 0 to 206208\n",
      "Data columns (total 9 columns):\n",
      " #   Column         Non-Null Count   Dtype \n",
      "---  ------         --------------   ----- \n",
      " 0   user_id        206209 non-null  object\n",
      " 1   First Name     206209 non-null  object\n",
      " 2   Surnam         206209 non-null  object\n",
      " 3   state          206209 non-null  object\n",
      " 4   Age            206209 non-null  int64 \n",
      " 5   date_joined    206209 non-null  object\n",
      " 6   n_dependants   206209 non-null  int64 \n",
      " 7   family_status  206209 non-null  object\n",
      " 8   income         206209 non-null  int64 \n",
      "dtypes: int64(3), object(6)\n",
      "memory usage: 14.2+ MB\n"
     ]
    }
   ],
   "source": [
    "#Q5 CHECKINF DATA TYPE\n",
    "customer_wrangle.info ()"
   ]
  },
  {
   "cell_type": "code",
   "execution_count": 17,
   "id": "e6c01e7c",
   "metadata": {},
   "outputs": [
    {
     "data": {
      "text/plain": [
       "user_id          0\n",
       "First Name       0\n",
       "Surnam           0\n",
       "state            0\n",
       "Age              0\n",
       "date_joined      0\n",
       "n_dependants     0\n",
       "family_status    0\n",
       "income           0\n",
       "dtype: int64"
      ]
     },
     "execution_count": 17,
     "metadata": {},
     "output_type": "execute_result"
    }
   ],
   "source": [
    "#Q5 checking missing values\n",
    "customer_wrangle.isnull().sum()"
   ]
  },
  {
   "cell_type": "code",
   "execution_count": 18,
   "id": "8e286056",
   "metadata": {},
   "outputs": [],
   "source": [
    "#5 there were no missing values in the data frame."
   ]
  },
  {
   "cell_type": "code",
   "execution_count": 19,
   "id": "7417ea88",
   "metadata": {},
   "outputs": [],
   "source": [
    "#Q5 DROPPINF DUPLICATES\n",
    "\n",
    "customer_clean = customer_wrangle.drop_duplicates()"
   ]
  },
  {
   "cell_type": "code",
   "execution_count": 20,
   "id": "2174bb34",
   "metadata": {},
   "outputs": [
    {
     "data": {
      "text/plain": [
       "(206209, 9)"
      ]
     },
     "execution_count": 20,
     "metadata": {},
     "output_type": "execute_result"
    }
   ],
   "source": [
    "#Q5 CHECKING THE DUPLIICATES\n",
    "customer_clean.shape"
   ]
  },
  {
   "cell_type": "code",
   "execution_count": 21,
   "id": "201a63f9",
   "metadata": {},
   "outputs": [],
   "source": [
    "#Q5 OBSERVATION: by comparing the new shape with pervious shape, we noticed that there were no duplicates."
   ]
  },
  {
   "cell_type": "code",
   "execution_count": 22,
   "id": "bb422156",
   "metadata": {},
   "outputs": [],
   "source": [
    "#Q6\n",
    "ords_prods_merged = pd.read_pickle(os.path.join (Path,'02 Data', 'prepared Data', 'orders_products_merged_8.Pkl'))"
   ]
  },
  {
   "cell_type": "code",
   "execution_count": 23,
   "id": "166521fc",
   "metadata": {},
   "outputs": [],
   "source": [
    "#Q6 CHANGING DATA TYPE\n",
    "ords_prods_merged['user_id'] = ords_prods_merged['user_id'].astype('str')"
   ]
  },
  {
   "cell_type": "code",
   "execution_count": 24,
   "id": "e5143ced",
   "metadata": {},
   "outputs": [],
   "source": [
    "#Q6 SAMPLING THE DATA 60%\n",
    "dev = np.random. rand(len(ords_prods_merged)) <= 0.6"
   ]
  },
  {
   "cell_type": "code",
   "execution_count": 25,
   "id": "978f9cac",
   "metadata": {},
   "outputs": [],
   "source": [
    "#Store 60% of the sample in the dataframe big\n",
    "big = ords_prods_merged[dev]"
   ]
  },
  {
   "cell_type": "code",
   "execution_count": 26,
   "id": "33122159",
   "metadata": {},
   "outputs": [],
   "source": [
    "#Store 40% of the sample in the dataframe small\n",
    "small = ords_prods_merged[~dev]"
   ]
  },
  {
   "cell_type": "code",
   "execution_count": 27,
   "id": "46d96b88",
   "metadata": {},
   "outputs": [],
   "source": [
    "#Q6 MERGING BITH DATA FRAMES\n",
    "ords_prods_cust_merged = big.merge(customer_clean, on = 'user_id')"
   ]
  },
  {
   "cell_type": "code",
   "execution_count": 28,
   "id": "27e1d330",
   "metadata": {},
   "outputs": [],
   "source": [
    "#Q8 EXPORTING DATA FRAME\n",
    "ords_prods_cust_merged.to_pickle(os.path.join( Path, '02 Data','Prepared Data', 'orders_products_customers_merged.pkl'))"
   ]
  },
  {
   "cell_type": "code",
   "execution_count": null,
   "id": "a0215373",
   "metadata": {},
   "outputs": [],
   "source": []
  }
 ],
 "metadata": {
  "kernelspec": {
   "display_name": "Python 3 (ipykernel)",
   "language": "python",
   "name": "python3"
  },
  "language_info": {
   "codemirror_mode": {
    "name": "ipython",
    "version": 3
   },
   "file_extension": ".py",
   "mimetype": "text/x-python",
   "name": "python",
   "nbconvert_exporter": "python",
   "pygments_lexer": "ipython3",
   "version": "3.10.9"
  }
 },
 "nbformat": 4,
 "nbformat_minor": 5
}
